{
 "cells": [
  {
   "cell_type": "code",
   "execution_count": 1,
   "metadata": {},
   "outputs": [],
   "source": [
    "# Import modules \n",
    "import pymaster as nmt\n",
    "#import healpy\n",
    "# If you prefer to work on spherical geometry you can use HEALPix/healpy -> conda install healpy -c conda-forge or pip install healpy\n",
    "#Important! If you are using this in a notebook, import pymaster *before* any matplotlib/numpy to avoid OpenMP conflicts\n",
    "\n",
    "import numpy as np\n",
    "import matplotlib.pyplot as plt\n",
    "import matplotlib\n",
    "%matplotlib inline\n",
    "\n",
    "#We are going to generate flatmaps using the Flatmap class\n",
    "# Q: where do I get the flatmaps module?\n",
    "#https://github.com/LSSTDESC/NaMaster/blob/master/sandbox_validation/data/flatmaps.py -SAU\n",
    "# Nord: I ran the conda install procedure, but flatmaps still does not imprt. \n",
    "import flatmaps as fm\n",
    "from astropy.wcs import WCS\n",
    "\n",
    "# To generate maps in flat-sky approximation we need NaMaster (pymaster)\n",
    "# To install pymaster -> conda install namaster -c conda-forge"
   ]
  },
  {
   "cell_type": "code",
   "execution_count": 2,
   "metadata": {},
   "outputs": [],
   "source": [
    "# Q: where did this file come from?\n",
    "# From CAMB (well from Kimmy, who generated it with CAMB), https://camb.info/readme.html -SAU\n",
    "\n",
    "# Nord: where can I get this file so I can run this code?\n",
    "\n",
    "# Q: what are each of the outputs?\n",
    "#l modes, TT spectrum, EE spectrum, TE spectrum, Phi-Phi spectrup, Phi-T spectrum -SAU\n",
    "\n",
    "# Q: What is \"P?\"\n",
    "#Phi? -SAU\n",
    "# Nord: why are you unsure about this?\n",
    "\n",
    "l, clTTa, clEEa, clTEa, clPPa, clPTa = np.loadtxt(\"planck_2018_cl/base_plikHM_TTTEEE_lowl_lowE_lensing_scalCls.dat\", unpack=True)"
   ]
  },
  {
   "cell_type": "code",
   "execution_count": 3,
   "metadata": {},
   "outputs": [],
   "source": [
    "# Generate an artificial power-spectrum (you can use a \"realistic\" power-spectrum from CAMB or CLASS)\n",
    "# ells_input = np.arange(1,10000) # We generate 10,000 multipoles\n",
    "clTT = clTTa /((l*(l+1)/(2*np.pi))) # Simple power-law power-spectrum\n",
    "clEE = clEEa /((l*(l+1)/(2*np.pi))) # Simple power-law power-spectrum\n",
    "clTE = clTEa /((l*(l+1)/(2*np.pi))) # Simple power-law power-spectrum\n",
    "clPP = clPPa / (l**4 * (2.726 * 1e6)**2) # Simple power-law power-spectrum, @vis: creates the 1D spectrum to draw from\n",
    "clPT = clPTa / (l**4) # Simple power-law power-spectrum\n",
    "cl_input = [clTT, clEE, clTE, clPP, clPT]"
   ]
  },
  {
   "cell_type": "code",
   "execution_count": 4,
   "metadata": {},
   "outputs": [
    {
     "data": {
      "image/png": "[encoded data removed]",
      "text/plain": [
       "<Figure size 432x288 with 1 Axes>"
      ]
     },
     "metadata": {
      "needs_background": "light"
     },
     "output_type": "display_data"
    }
   ],
   "source": [
    "# Q: what are the units on these axes? \n",
    "#X-axis is l, Y-axis I don't think has units?\n",
    "#Because CAMB says the units are microK^2, and then we divide out by microK^2 when normalizing\n",
    "\n",
    "# Nord: Please label the y and x axes\n",
    "plt.plot(clPP)\n",
    "plt.title(\"Phi Spectrum\")\n",
    "plt.xlabel(\"Multipole l\") #SAU: We have not confirmed the units on this\n",
    "plt.xscale(\"log\")\n",
    "plt.yscale(\"log\")"
   ]
  },
  {
   "cell_type": "code",
   "execution_count": 13,
   "metadata": {},
   "outputs": [],
   "source": [
    "# Create the empty map object with the resolution that we want\n",
    "# Set parameters for empy map with resolution\n",
    "# Q: there is reso with pixels, but then side defined separately. These seem to be redundant definitions that could lead to a logical conflict.\n",
    "# I agree with this statement. I was following convention used in the notebook I inherited.\n",
    "# Nord: please change convention so that we don't get confused later on.\n",
    "pixels = 192.\n",
    "side = 5 #5 degrees\n",
    "reso = side/pixels \n",
    "\n",
    "# Generate the WCS (world coordinate system) for the flatmap\n",
    "w = WCS(naxis=2)\n",
    "nx = pixels #Number of pixels in the x axis\n",
    "ny = pixels #Number of pixels in the y axis\n",
    "# Q: should this be equal to pixels?\n",
    "# SAU: yes\n",
    "\n",
    "# \n",
    "w.wcs.crpix = [nx/2, ny/2] # Center pixel X, Y\n",
    "w.wcs.cdelt = np.array([-reso, reso])\n",
    "w.wcs.crval = [0, 0] # Center coordinates RA, DEC at 0,0\n",
    "# Comment: The thing below should probably be an input in the previous cell so we can keep better track of it.\n",
    "# Comment: we don't want this defined twice. it will be confusing, especially in a notebook.\n",
    "#SAU: Ok, deleted\n",
    "w.wcs.ctype = [\"RA---AIR\", \"DEC--AIR\"] # Airy projection\n",
    "\n"
   ]
  },
  {
   "cell_type": "code",
   "execution_count": 14,
   "metadata": {},
   "outputs": [],
   "source": [
    "# This is the map object that will be used to generate the fake CMB maps\n",
    "fmi = fm.FlatMapInfo(w, nx=nx, ny=ny, lx=side, ly=side) "
   ]
  },
  {
   "cell_type": "code",
   "execution_count": 15,
   "metadata": {},
   "outputs": [],
   "source": [
    "# Q: What is the math related to this?\n",
    "#SAU: I don't know, I can look into it though\n",
    "phi_map = nmt.synfast_flat(int(fmi.nx),int(fmi.ny),fmi.lx_rad,fmi.ly_rad, [clPP],[0], seed = 0)"
   ]
  },
  {
   "cell_type": "code",
   "execution_count": null,
   "metadata": {},
   "outputs": [],
   "source": []
  },
  {
   "cell_type": "code",
   "execution_count": 16,
   "metadata": {},
   "outputs": [
    {
     "ename": "TypeError",
     "evalue": "'float' object cannot be interpreted as an index",
     "output_type": "error",
     "traceback": [
      "\u001b[0;31m---------------------------------------------------------------------------\u001b[0m",
      "\u001b[0;31mTypeError\u001b[0m                                 Traceback (most recent call last)",
      "\u001b[0;32m<ipython-input-16-c58b9cf7c346>\u001b[0m in \u001b[0;36m<module>\u001b[0;34m()\u001b[0m\n\u001b[0;32m----> 1\u001b[0;31m \u001b[0mfmi\u001b[0m\u001b[0;34m.\u001b[0m\u001b[0mview_map\u001b[0m\u001b[0;34m(\u001b[0m\u001b[0mphi_map\u001b[0m\u001b[0;34m[\u001b[0m\u001b[0;36m0\u001b[0m\u001b[0;34m]\u001b[0m\u001b[0;34m.\u001b[0m\u001b[0mflatten\u001b[0m\u001b[0;34m(\u001b[0m\u001b[0;34m)\u001b[0m\u001b[0;34m)\u001b[0m\u001b[0;34m\u001b[0m\u001b[0m\n\u001b[0m",
      "\u001b[0;32m/Users/samanthausman/cmb_research/simcmb/flatmaps.pyc\u001b[0m in \u001b[0;36mview_map\u001b[0;34m(self, map_in, ax, xlabel, ylabel, fs, tfs, title, addColorbar, posColorbar, cmap, colorMax, colorMin, fnameOut)\u001b[0m\n\u001b[1;32m    175\u001b[0m         \u001b[0;32mif\u001b[0m \u001b[0mtitle\u001b[0m \u001b[0;32mis\u001b[0m \u001b[0;32mnot\u001b[0m \u001b[0mNone\u001b[0m \u001b[0;34m:\u001b[0m\u001b[0;34m\u001b[0m\u001b[0m\n\u001b[1;32m    176\u001b[0m             \u001b[0max\u001b[0m\u001b[0;34m.\u001b[0m\u001b[0mset_title\u001b[0m\u001b[0;34m(\u001b[0m\u001b[0mtitle\u001b[0m\u001b[0;34m,\u001b[0m\u001b[0mfontsize\u001b[0m\u001b[0;34m=\u001b[0m\u001b[0mtfs\u001b[0m\u001b[0;34m)\u001b[0m\u001b[0;34m\u001b[0m\u001b[0m\n\u001b[0;32m--> 177\u001b[0;31m         image= ax.imshow(map_in.reshape([self.ny,self.nx]),vmin=colorMin,vmax=colorMax,\n\u001b[0m\u001b[1;32m    178\u001b[0m \t\t\t origin='lower', interpolation='nearest')\n\u001b[1;32m    179\u001b[0m         \u001b[0;32mif\u001b[0m \u001b[0maddColorbar\u001b[0m \u001b[0;34m:\u001b[0m\u001b[0;34m\u001b[0m\u001b[0m\n",
      "\u001b[0;31mTypeError\u001b[0m: 'float' object cannot be interpreted as an index"
     ]
    },
    {
     "data": {
      "image/png": "[encoded data removed]",
      "text/plain": [
       "<Figure size 432x288 with 1 Axes>"
      ]
     },
     "metadata": {
      "needs_background": "light"
     },
     "output_type": "display_data"
    }
   ],
   "source": [
    "fmi.view_map(phi_map[0].flatten()) "
   ]
  },
  {
   "cell_type": "code",
   "execution_count": null,
   "metadata": {},
   "outputs": [],
   "source": [
    "phi_map_fft = np.fft.fft2(phi_map[0])\n",
    "\n",
    "plt.imshow(abs(phi_map_fft), norm=matplotlib.colors.LogNorm())\n",
    "\n",
    "np.save(\"phi_map_fft\", phi_map_fft)"
   ]
  },
  {
   "cell_type": "code",
   "execution_count": null,
   "metadata": {},
   "outputs": [],
   "source": [
    "# Q: What is the difference between this data and the data in the previous cell?\n",
    "#SAU: This is the data after it's been loaded into the QuickLens structure.\n",
    "#This was in order to debug to figure out why the phi map looked stronger after going into the quicklens data structure\n",
    "#Apparently when the phi map is loaded into the QuickLens data structure, it gets multiplied by a scale factor\n",
    "#I couldn't find any documentation explaining why.\n",
    "phi_map_ql = np.load(\"phi_map_ql_structure.npy\")"
   ]
  },
  {
   "cell_type": "code",
   "execution_count": null,
   "metadata": {},
   "outputs": [],
   "source": [
    "data = phi_map_ql/phi_map[0]"
   ]
  },
  {
   "cell_type": "code",
   "execution_count": null,
   "metadata": {},
   "outputs": [],
   "source": [
    "#Nord: Please label x and y axes, and the colorbar scale.\n",
    "plt.imshow(1/data)\n",
    "plt.colorbar()"
   ]
  },
  {
   "cell_type": "code",
   "execution_count": null,
   "metadata": {},
   "outputs": [],
   "source": [
    "phi_map_fft_ql = np.load(\"phi_map_fft_ql_structure.npy\")"
   ]
  },
  {
   "cell_type": "code",
   "execution_count": null,
   "metadata": {},
   "outputs": [],
   "source": [
    "plt.imshow(abs(phi_map_fft_ql)-abs(phi_map_fft), norm=matplotlib.colors.LogNorm())\n",
    "plt.colorbar()"
   ]
  },
  {
   "cell_type": "code",
   "execution_count": null,
   "metadata": {},
   "outputs": [],
   "source": [
    "phi_map_ql"
   ]
  },
  {
   "cell_type": "code",
   "execution_count": null,
   "metadata": {},
   "outputs": [],
   "source": [
    "num_maps = 11200\n",
    "i=0\n",
    "all_maps = np.zeros([num_maps,int(pixels),int(pixels)])\n",
    "while i < num_maps:\n",
    "    map_gen = nmt.synfast_flat(int(fmi.nx),int(fmi.ny),fmi.lx_rad,fmi.ly_rad, [clPP],[0], seed = i)\n",
    "    all_maps[i] = map_gen\n",
    "    if np.mod(i,100) == 0:\n",
    "        print i,\n",
    "    i+=1"
   ]
  },
  {
   "cell_type": "code",
   "execution_count": null,
   "metadata": {},
   "outputs": [],
   "source": [
    "fmi.view_map(all_maps[502].flatten())"
   ]
  },
  {
   "cell_type": "code",
   "execution_count": null,
   "metadata": {},
   "outputs": [],
   "source": [
    "np.save(\"./all_phi_map_fft\", all_maps)"
   ]
  },
  {
   "cell_type": "code",
   "execution_count": null,
   "metadata": {},
   "outputs": [],
   "source": [
    "np.shape(all_maps)"
   ]
  }
 ],
 "metadata": {
  "kernelspec": {
   "display_name": "Python 2",
   "language": "python",
   "name": "python2"
  },
  "language_info": {
   "codemirror_mode": {
    "name": "ipython",
    "version": 2
   },
   "file_extension": ".py",
   "mimetype": "text/x-python",
   "name": "python",
   "nbconvert_exporter": "python",
   "pygments_lexer": "ipython2",
   "version": "2.7.16"
  }
 },
 "nbformat": 4,
 "nbformat_minor": 4
}
